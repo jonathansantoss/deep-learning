{
 "cells": [
  {
   "cell_type": "markdown",
   "metadata": {},
   "source": [
    "# <font color='blue'>Data Science Academy</font>\n",
    "# <font color='blue'>Deep Learning I</font>"
   ]
  },
  {
   "cell_type": "markdown",
   "metadata": {},
   "source": [
    "# Exercício"
   ]
  },
  {
   "cell_type": "markdown",
   "metadata": {},
   "source": [
    "# Construindo Modelo Perceptron com Numpy e TensorFlow"
   ]
  },
  {
   "cell_type": "code",
   "execution_count": 1,
   "metadata": {},
   "outputs": [],
   "source": [
    "# Obs: Este script está compatível com as versões 1.x e 2.x do TensorFlow.\n",
    "# Optamos por manter assim, pois alguns recursos avançados usados neste script ainda não foram implementados no TF 2.\n",
    "\n",
    "# Para executar este script com TF 2, nenhuma passo adicional precisa ser feito.\n",
    "# Para executar com TF 1, remova o prefixo tf.compat.v1 ao longo do scriipt e substitua por tf."
   ]
  },
  {
   "cell_type": "code",
   "execution_count": 2,
   "metadata": {},
   "outputs": [],
   "source": [
    "import tensorflow as tf\n",
    "import numpy as np\n",
    "import os\n",
    "import matplotlib.pyplot as plt\n",
    "%matplotlib inline"
   ]
  },
  {
   "cell_type": "code",
   "execution_count": 3,
   "metadata": {},
   "outputs": [
    {
     "data": {
      "text/plain": [
       "'1.20.1'"
      ]
     },
     "execution_count": 3,
     "metadata": {},
     "output_type": "execute_result"
    }
   ],
   "source": [
    "np.__version__"
   ]
  },
  {
   "cell_type": "code",
   "execution_count": 4,
   "metadata": {},
   "outputs": [
    {
     "data": {
      "text/plain": [
       "'2.3.0'"
      ]
     },
     "execution_count": 4,
     "metadata": {},
     "output_type": "execute_result"
    }
   ],
   "source": [
    "tf.__version__"
   ]
  },
  {
   "cell_type": "markdown",
   "metadata": {},
   "source": [
    "## Preparando o Dataset"
   ]
  },
  {
   "cell_type": "markdown",
   "metadata": {},
   "source": [
    "- Carrega o dataset de um arquivo com colunas separadas por tab\n",
    "- O dataset contém 3 colunas: feature 1, feature 2 e classe (labels)\n",
    "- O dataset contém 100 entradas ordenadas por classe labels, 50 exemplos de cada classe"
   ]
  },
  {
   "cell_type": "code",
   "execution_count": 5,
   "metadata": {},
   "outputs": [
    {
     "name": "stdout",
     "output_type": "stream",
     "text": [
      "Contagem de cada classe label: [50 50]\n",
      "X.shape: (100, 2)\n",
      "y.shape: (100,)\n"
     ]
    },
    {
     "name": "stderr",
     "output_type": "stream",
     "text": [
      "<ipython-input-5-155b48cc5883>:3: DeprecationWarning: `np.int` is a deprecated alias for the builtin `int`. To silence this warning, use `int` by itself. Doing this will not modify any behavior and is safe. When replacing `np.int`, you may wish to use e.g. `np.int64` or `np.int32` to specify the precision. If you wish to review your current use, check the release note link for additional information.\n",
      "Deprecated in NumPy 1.20; for more details and guidance: https://numpy.org/devdocs/release/1.20.0-notes.html#deprecations\n",
      "  y = y.astype(np.int)\n"
     ]
    }
   ],
   "source": [
    "data = np.genfromtxt('dataset.txt', delimiter = '\\t')\n",
    "X, y = data[:, :2], data[:, 2]\n",
    "y = y.astype(np.int)\n",
    "\n",
    "print('Contagem de cada classe label:', np.bincount(y))\n",
    "print('X.shape:', X.shape)\n",
    "print('y.shape:', y.shape)"
   ]
  },
  {
   "cell_type": "code",
   "execution_count": 6,
   "metadata": {},
   "outputs": [
    {
     "name": "stdout",
     "output_type": "stream",
     "text": [
      "[[ 0.77 -1.14]\n",
      " [-0.33  1.44]\n",
      " [ 0.91 -3.07]\n",
      " [-0.37 -1.91]\n",
      " [-1.84 -1.13]\n",
      " [-1.5   0.34]\n",
      " [-0.63 -1.53]\n",
      " [-1.08 -1.23]\n",
      " [ 0.39 -1.99]\n",
      " [-1.26 -2.9 ]\n",
      " [-5.27 -0.78]\n",
      " [-0.49 -2.74]\n",
      " [ 1.48 -3.74]\n",
      " [-1.64 -1.96]\n",
      " [ 0.45  0.36]\n",
      " [-1.48 -1.17]\n",
      " [-2.94 -4.47]\n",
      " [-2.19 -1.48]\n",
      " [ 0.02 -0.02]\n",
      " [-2.24 -2.12]\n",
      " [-3.17 -3.69]\n",
      " [-4.09  1.03]\n",
      " [-2.41 -2.31]\n",
      " [-3.45 -0.61]\n",
      " [-3.96 -2.  ]\n",
      " [-2.95 -1.16]\n",
      " [-2.42 -3.35]\n",
      " [-1.74 -1.1 ]\n",
      " [-1.61 -1.28]\n",
      " [-2.59 -2.21]\n",
      " [-2.64 -2.2 ]\n",
      " [-2.84 -4.12]\n",
      " [-1.45 -2.26]\n",
      " [-3.98 -1.05]\n",
      " [-2.97 -1.63]\n",
      " [-0.68 -1.52]\n",
      " [-0.1  -3.43]\n",
      " [-1.14 -2.66]\n",
      " [-2.92 -2.51]\n",
      " [-2.14 -1.62]\n",
      " [-3.33 -0.44]\n",
      " [-1.05 -3.85]\n",
      " [ 0.38  0.95]\n",
      " [-0.05 -1.95]\n",
      " [-3.2  -0.22]\n",
      " [-2.26  0.01]\n",
      " [-1.41 -0.33]\n",
      " [-1.2  -0.71]\n",
      " [-1.69  0.8 ]\n",
      " [-1.52 -1.14]\n",
      " [ 3.88  0.65]\n",
      " [ 0.73  2.97]\n",
      " [ 0.83  3.94]\n",
      " [ 1.59  1.25]\n",
      " [ 3.92  3.48]\n",
      " [ 3.87  2.91]\n",
      " [ 1.14  3.91]\n",
      " [ 1.73  2.8 ]\n",
      " [ 2.95  1.84]\n",
      " [ 2.61  2.92]\n",
      " [ 2.38  0.9 ]\n",
      " [ 2.3   3.33]\n",
      " [ 1.31  1.85]\n",
      " [ 1.56  3.85]\n",
      " [ 2.67  2.41]\n",
      " [ 1.23  2.54]\n",
      " [ 1.33  2.03]\n",
      " [ 1.36  2.68]\n",
      " [ 2.58  1.79]\n",
      " [ 2.4   0.91]\n",
      " [ 0.51  2.44]\n",
      " [ 2.17  2.64]\n",
      " [ 4.38  2.94]\n",
      " [ 1.09  3.12]\n",
      " [ 0.68  1.54]\n",
      " [ 1.93  3.71]\n",
      " [ 1.26  1.17]\n",
      " [ 1.9   1.34]\n",
      " [ 3.13  0.92]\n",
      " [ 0.85  1.56]\n",
      " [ 1.5   3.93]\n",
      " [ 2.95  2.09]\n",
      " [ 0.77  2.84]\n",
      " [ 1.    0.46]\n",
      " [ 3.19  2.32]\n",
      " [ 2.92  2.32]\n",
      " [ 2.86  1.35]\n",
      " [ 0.97  2.68]\n",
      " [ 1.2   1.31]\n",
      " [ 1.54  2.02]\n",
      " [ 1.65  0.63]\n",
      " [ 1.36 -0.22]\n",
      " [ 2.63  0.4 ]\n",
      " [ 0.9   2.05]\n",
      " [ 1.26  3.54]\n",
      " [ 0.71  2.27]\n",
      " [ 1.96  0.83]\n",
      " [ 2.52  1.83]\n",
      " [ 2.77  2.82]\n",
      " [ 4.16  3.34]]\n"
     ]
    }
   ],
   "source": [
    "print(X)"
   ]
  },
  {
   "cell_type": "code",
   "execution_count": 7,
   "metadata": {},
   "outputs": [
    {
     "name": "stdout",
     "output_type": "stream",
     "text": [
      "[0 0 0 0 0 0 0 0 0 0 0 0 0 0 0 0 0 0 0 0 0 0 0 0 0 0 0 0 0 0 0 0 0 0 0 0 0\n",
      " 0 0 0 0 0 0 0 0 0 0 0 0 0 1 1 1 1 1 1 1 1 1 1 1 1 1 1 1 1 1 1 1 1 1 1 1 1\n",
      " 1 1 1 1 1 1 1 1 1 1 1 1 1 1 1 1 1 1 1 1 1 1 1 1 1 1]\n"
     ]
    }
   ],
   "source": [
    "print(y)"
   ]
  },
  {
   "cell_type": "code",
   "execution_count": 8,
   "metadata": {},
   "outputs": [
    {
     "data": {
      "image/png": "[encoded data removed]",
      "text/plain": [
       "<Figure size 432x288 with 1 Axes>"
      ]
     },
     "metadata": {
      "needs_background": "light"
     },
     "output_type": "display_data"
    }
   ],
   "source": [
    "plt.scatter(X[y==0, 0], X[y==0, 1], label='classe 0', marker='o')\n",
    "plt.scatter(X[y==1, 0], X[y==1, 1], label='classe 1', marker='s')\n",
    "plt.xlabel('feature 1')\n",
    "plt.ylabel('feature 2')\n",
    "plt.legend()\n",
    "plt.show()"
   ]
  },
  {
   "cell_type": "markdown",
   "metadata": {},
   "source": [
    "## Pré-processando o Dataset"
   ]
  },
  {
   "cell_type": "markdown",
   "metadata": {},
   "source": [
    "- Organiza o dataset de forma aleatória\n",
    "- Divide o dataset em 70% treinamento e 30% teste\n",
    "- Seed random para garantir a reproducibilidade"
   ]
  },
  {
   "cell_type": "code",
   "execution_count": 9,
   "metadata": {},
   "outputs": [],
   "source": [
    "shuffle_idx = np.arange(y.shape[0])\n",
    "shuffle_rng = np.random.RandomState(123)\n",
    "shuffle_rng.shuffle(shuffle_idx)\n",
    "X, y = X[shuffle_idx], y[shuffle_idx]"
   ]
  },
  {
   "cell_type": "code",
   "execution_count": 10,
   "metadata": {},
   "outputs": [],
   "source": [
    "X_train, X_test = X[shuffle_idx[:70]], X[shuffle_idx[70:]]\n",
    "y_train, y_test = y[shuffle_idx[:70]], y[shuffle_idx[70:]]"
   ]
  },
  {
   "cell_type": "markdown",
   "metadata": {},
   "source": [
    "- Padroniza os datasets de treino e de teste (média zero e desvio padrão)"
   ]
  },
  {
   "cell_type": "code",
   "execution_count": 11,
   "metadata": {},
   "outputs": [],
   "source": [
    "mu, sigma = X_train.mean(axis=0), X_train.std(axis=0)\n",
    "X_train = (X_train - mu) / sigma\n",
    "X_test = (X_test - mu) / sigma"
   ]
  },
  {
   "cell_type": "markdown",
   "metadata": {},
   "source": [
    "- Verifica o dataset após o pré-processamento"
   ]
  },
  {
   "cell_type": "code",
   "execution_count": 12,
   "metadata": {},
   "outputs": [
    {
     "data": {
      "image/png": "[encoded data removed]",
      "text/plain": [
       "<Figure size 432x288 with 1 Axes>"
      ]
     },
     "metadata": {
      "needs_background": "light"
     },
     "output_type": "display_data"
    }
   ],
   "source": [
    "plt.scatter(X_train[y_train==0, 0], X_train[y_train==0, 1], label='class 0', marker='o')\n",
    "plt.scatter(X_train[y_train==1, 0], X_train[y_train==1, 1], label='class 1', marker='s')\n",
    "plt.xlabel('feature 1')\n",
    "plt.ylabel('feature 2')\n",
    "plt.legend()\n",
    "plt.show()"
   ]
  },
  {
   "cell_type": "markdown",
   "metadata": {},
   "source": [
    "## Implementando o Perceptron com NumPy"
   ]
  },
  {
   "cell_type": "code",
   "execution_count": 13,
   "metadata": {},
   "outputs": [],
   "source": [
    "def perceptron_train(features, targets, mparams=None,\n",
    "                     zero_weights=True, learning_rate=1., seed=None):\n",
    "    \"\"\"Função de treinamento Perceptron para labels de classe binária\n",
    "\n",
    "    Parâmetros\n",
    "    ----------\n",
    "    features : numpy.ndarray, shape=(n_samples, m_features)\n",
    "        Uma matriz NumPy 2D contendo os exemplos de treinamento\n",
    "\n",
    "    targets : numpy.ndarray, shape=(n_samples,)\n",
    "        Uma matriz NumPy 1D contendo os labels de classe verdadeira (valores observados)\n",
    "\n",
    "    mparams : dict or None (default: None)\n",
    "        Um dicionário contendo os parâmetros do modelo, como retornado por esta função.\n",
    "        Se Nenhum, um novo parâmetro do modelo é inicializado.\n",
    "        Observe que os valores em mparams são atualizados no local se um mparams dict for fornecido.\n",
    "\n",
    "    zero_weights : bool (default: True)\n",
    "        Inicializa pesos com valores iguais a zeros, caso contrário os pesos do modelo são\n",
    "        inicializados em pequeno número aleatório de uma distribuição normal\n",
    "        com zero de média e desvio padrão 0,1.\n",
    "\n",
    "    learning_rate : float (default: 1.0)\n",
    "        Uma taxa de aprendizado para as atualizações de parâmetros. Note que uma taxa de aprendizado\n",
    "        não tem efeito na direção do limite de decisão se os pesos do modelo forem inicializados com zeros.\n",
    "\n",
    "    seed : int or None (default: None)\n",
    "       Sementes para o gerador de números pseudo-aleatórios que inicializa os\n",
    "       pesos se zero_weights = Falso\n",
    "\n",
    "    Retornos\n",
    "    -------\n",
    "    mparams : dict\n",
    "       Os parâmetros do modelo depois de treinar o perceptron por uma epoch.\n",
    "       O dicionário mparams tem a forma:\n",
    "        {'weights': np.array([weight_1, weight_2, ... , weight_m]),\n",
    "         'bias': np.array([bias])}\n",
    "\n",
    "    \"\"\"\n",
    "    # Inicializa os parâmetros do modelo\n",
    "    if mparams is None:\n",
    "        mparams = {'bias': np.zeros(1)}\n",
    "        if zero_weights:\n",
    "            mparams['weights'] = np.zeros(features.shape[1])\n",
    "        else:\n",
    "            rng = np.random.RandomState(seed)\n",
    "            mparams['weights'] = rng.normal(loc=0.0, scale=0.1, size=(features.shape[1]))\n",
    "\n",
    "    # Treina uma epoch\n",
    "    for training_example, true_label in zip(features, targets):\n",
    "        linear = np.dot(training_example, mparams['weights']) + mparams['bias']\n",
    "\n",
    "        # Se a classe 1 foi predita, mas o label verdadeiro é 0\n",
    "        if linear > 0. and not true_label:\n",
    "            mparams['weights'] -= learning_rate * training_example\n",
    "            mparams['bias'] -= learning_rate * 1.\n",
    "\n",
    "        # Se a classe 0 foi predita, mas o label verdadeiro é 1\n",
    "        elif linear <= 0. and true_label:\n",
    "            mparams['weights'] += learning_rate * training_example\n",
    "            mparams['bias'] += learning_rate * 1.\n",
    "\n",
    "    return mparams"
   ]
  },
  {
   "cell_type": "markdown",
   "metadata": {},
   "source": [
    "- Treina o modelo Perceptron com 2 epochs"
   ]
  },
  {
   "cell_type": "code",
   "execution_count": 14,
   "metadata": {},
   "outputs": [],
   "source": [
    "model_params = perceptron_train(X_train, y_train, mparams=None, zero_weights=True)\n",
    "\n",
    "for _ in range(2):\n",
    "    _ = perceptron_train(X_train, y_train, mparams=model_params)"
   ]
  },
  {
   "cell_type": "markdown",
   "metadata": {},
   "source": [
    "- Implementar uma função para previsões de perceptron em NumPy"
   ]
  },
  {
   "cell_type": "code",
   "execution_count": 15,
   "metadata": {},
   "outputs": [],
   "source": [
    "def perceptron_predict(features, mparams):\n",
    "    \"\"\"Função de previsão Perceptron para labels de classe\n",
    "\n",
    "    Parâmetros\n",
    "    ----------\n",
    "    features : numpy.ndarray, shape=(n_samples, m_features)\n",
    "        Uma matriz NumPy 2D contendo os exemplos de treinamento\n",
    "\n",
    "    mparams : dict\n",
    "        Os parâmetros do modelo perceptron na forma:\n",
    "        {'weights': np.array([weight_1, weight_2, ... , weight_m]),\n",
    "         'bias': np.array([bias])}\n",
    "\n",
    "    Retorno\n",
    "    -------\n",
    "    predicted_labels : np.ndarray, shape=(n_samples)\n",
    "        NumPy array contendo os labels de classe previstos.\n",
    "\n",
    "    \"\"\"\n",
    "    linear = np.dot(features, mparams['weights']) + mparams['bias']\n",
    "    predicted_labels = np.where(linear.reshape(-1) > 0., 1, 0)\n",
    "    return predicted_labels"
   ]
  },
  {
   "cell_type": "markdown",
   "metadata": {},
   "source": [
    "- Calcula o erro de treinamento e teste"
   ]
  },
  {
   "cell_type": "code",
   "execution_count": 16,
   "metadata": {},
   "outputs": [
    {
     "name": "stdout",
     "output_type": "stream",
     "text": [
      "Número de erros no treinamento 0\n",
      "Número de erros no teste 2\n"
     ]
    }
   ],
   "source": [
    "train_errors = np.sum(perceptron_predict(X_train, model_params) != y_train)\n",
    "test_errors = np.sum(perceptron_predict(X_test, model_params) != y_test)\n",
    "\n",
    "print('Número de erros no treinamento', train_errors)\n",
    "print('Número de erros no teste', test_errors)"
   ]
  },
  {
   "cell_type": "markdown",
   "metadata": {},
   "source": [
    "- Visualizando o limite de decisão"
   ]
  },
  {
   "cell_type": "markdown",
   "metadata": {},
   "source": [
    "Perceptron é uma função linear com limiar (threshold)\n",
    "\n",
    "$$w_{1}x_{1} + w_{2}x_{2} + b \\geq 0.$$\n",
    "\n",
    "Podemos reorganizar esta equação da seguinte forma:\n",
    "\n",
    "$$w_{1}x_{1} + b \\geq 0 - w_{2}x_{2}$$\n",
    "\n",
    "$$- \\frac{w_{1}x_{1}}{{w_2}} - \\frac{b}{w_2} \\leq x_{2}$$"
   ]
  },
  {
   "cell_type": "code",
   "execution_count": 17,
   "metadata": {},
   "outputs": [
    {
     "data": {
      "image/png": "[encoded data removed]",
      "text/plain": [
       "<Figure size 504x216 with 2 Axes>"
      ]
     },
     "metadata": {
      "needs_background": "light"
     },
     "output_type": "display_data"
    }
   ],
   "source": [
    "# Limite de Decisão (Hiperplano)\n",
    "x_min = -2\n",
    "y_min = ( -(model_params['weights'][0] * x_min) / model_params['weights'][1]\n",
    "          -(model_params['bias'] / model_params['weights'][1]) )\n",
    "\n",
    "x_max = 2\n",
    "y_max = ( -(model_params['weights'][0] * x_max) / model_params['weights'][1]\n",
    "          -(model_params['bias'] / model_params['weights'][1]) )\n",
    "\n",
    "\n",
    "fig, ax = plt.subplots(1, 2, sharex=True, figsize=(7, 3))\n",
    "\n",
    "ax[0].plot([x_min, x_max], [y_min, y_max])\n",
    "ax[1].plot([x_min, x_max], [y_min, y_max])\n",
    "\n",
    "ax[0].scatter(X_train[y_train==0, 0], X_train[y_train==0, 1], label='classe 0', marker='o')\n",
    "ax[0].scatter(X_train[y_train==1, 0], X_train[y_train==1, 1], label='classe 1', marker='s')\n",
    "\n",
    "ax[1].scatter(X_test[y_test==0, 0], X_test[y_test==0, 1], label='classe 0', marker='o')\n",
    "ax[1].scatter(X_test[y_test==1, 0], X_test[y_test==1, 1], label='classe 1', marker='s')\n",
    "\n",
    "ax[1].legend(loc='upper left')\n",
    "plt.show()"
   ]
  },
  {
   "cell_type": "markdown",
   "metadata": {},
   "source": [
    "- Exercícios sugeridos\n",
    "\n",
    "\n",
    "1. Treine um perceptron de peso zero com diferentes taxas de aprendizagem e compare os parâmetros do modelo e os limites de decisão uns com os outros. O que você observa?\n",
    "\n",
    "2. Repita o exercício anterior com pesos inicializados aleatoriamente."
   ]
  },
  {
   "cell_type": "markdown",
   "metadata": {},
   "source": [
    "Faça os exercícios e depois compare as respostas com as soluções propostas abaixo:"
   ]
  },
  {
   "cell_type": "code",
   "execution_count": 44,
   "metadata": {},
   "outputs": [],
   "source": [
    "# Treine um perceptron de peso zero com diferentes taxas de aprendizagem e compare os parâmetros do modelo e os limites de decisão uns com os outros. O que você observa?\n",
    "# O bias muda e o valores dos pesos são alterados conforme altera learning rate. Pode tanto subir como o valor ficar menor.\n",
    "# Onde e reta de regresão é alterada, assim dividino os dados.\n",
    "model_params = perceptron_train(X_train, y_train, mparams=None, zero_weights=True, learning_rate=0.01)\n",
    "\n",
    "for _ in range(2):\n",
    "    _ = perceptron_train(X_train, y_train, mparams=model_params, learning_rate=0.01)"
   ]
  },
  {
   "cell_type": "code",
   "execution_count": 45,
   "metadata": {},
   "outputs": [
    {
     "data": {
      "text/plain": [
       "{'bias': array([-0.01]), 'weights': array([0.01273408, 0.01346423])}"
      ]
     },
     "execution_count": 45,
     "metadata": {},
     "output_type": "execute_result"
    }
   ],
   "source": [
    "model_params"
   ]
  },
  {
   "cell_type": "code",
   "execution_count": 46,
   "metadata": {},
   "outputs": [
    {
     "name": "stdout",
     "output_type": "stream",
     "text": [
      "Número de erros no treinamento 0\n",
      "Número de erros no teste 2\n"
     ]
    }
   ],
   "source": [
    "train_errors = np.sum(perceptron_predict(X_train, model_params) != y_train)\n",
    "test_errors = np.sum(perceptron_predict(X_test, model_params) != y_test)\n",
    "\n",
    "print('Número de erros no treinamento', train_errors)\n",
    "print('Número de erros no teste', test_errors)"
   ]
  },
  {
   "cell_type": "code",
   "execution_count": 47,
   "metadata": {},
   "outputs": [
    {
     "data": {
      "image/png": "[encoded data removed]",
      "text/plain": [
       "<Figure size 504x216 with 2 Axes>"
      ]
     },
     "metadata": {
      "needs_background": "light"
     },
     "output_type": "display_data"
    }
   ],
   "source": [
    "# Limite de Decisão (Hiperplano)\n",
    "x_min = -2\n",
    "y_min = ( -(model_params['weights'][0] * x_min) / model_params['weights'][1]\n",
    "          -(model_params['bias'] / model_params['weights'][1]) )\n",
    "\n",
    "x_max = 2\n",
    "y_max = ( -(model_params['weights'][0] * x_max) / model_params['weights'][1]\n",
    "          -(model_params['bias'] / model_params['weights'][1]) )\n",
    "\n",
    "\n",
    "fig, ax = plt.subplots(1, 2, sharex=True, figsize=(7, 3))\n",
    "\n",
    "ax[0].plot([x_min, x_max], [y_min, y_max])\n",
    "ax[1].plot([x_min, x_max], [y_min, y_max])\n",
    "\n",
    "ax[0].scatter(X_train[y_train==0, 0], X_train[y_train==0, 1], label='classe 0', marker='o')\n",
    "ax[0].scatter(X_train[y_train==1, 0], X_train[y_train==1, 1], label='classe 1', marker='s')\n",
    "\n",
    "ax[1].scatter(X_test[y_test==0, 0], X_test[y_test==0, 1], label='classe 0', marker='o')\n",
    "ax[1].scatter(X_test[y_test==1, 0], X_test[y_test==1, 1], label='classe 1', marker='s')\n",
    "\n",
    "ax[1].legend(loc='upper left')\n",
    "plt.show()"
   ]
  },
  {
   "cell_type": "code",
   "execution_count": 54,
   "metadata": {},
   "outputs": [],
   "source": [
    "# Repita o exercício anterior com pesos inicializados aleatoriamente.\n",
    "model_params = perceptron_train(X_train, y_train, mparams=None, zero_weights=False)\n",
    "\n",
    "for _ in range(2):\n",
    "    _ = perceptron_train(X_train, y_train, mparams=model_params)"
   ]
  },
  {
   "cell_type": "code",
   "execution_count": 55,
   "metadata": {},
   "outputs": [
    {
     "data": {
      "text/plain": [
       "{'bias': array([-1.]), 'weights': array([1.34495356, 1.61417973])}"
      ]
     },
     "execution_count": 55,
     "metadata": {},
     "output_type": "execute_result"
    }
   ],
   "source": [
    "model_params"
   ]
  },
  {
   "cell_type": "code",
   "execution_count": 56,
   "metadata": {},
   "outputs": [
    {
     "name": "stdout",
     "output_type": "stream",
     "text": [
      "Número de erros no treinamento 0\n",
      "Número de erros no teste 2\n"
     ]
    }
   ],
   "source": [
    "train_errors = np.sum(perceptron_predict(X_train, model_params) != y_train)\n",
    "test_errors = np.sum(perceptron_predict(X_test, model_params) != y_test)\n",
    "\n",
    "print('Número de erros no treinamento', train_errors)\n",
    "print('Número de erros no teste', test_errors)"
   ]
  },
  {
   "cell_type": "code",
   "execution_count": 57,
   "metadata": {},
   "outputs": [
    {
     "data": {
      "image/png": "[encoded data removed]",
      "text/plain": [
       "<Figure size 504x216 with 2 Axes>"
      ]
     },
     "metadata": {
      "needs_background": "light"
     },
     "output_type": "display_data"
    }
   ],
   "source": [
    "# Limite de Decisão (Hiperplano)\n",
    "x_min = -2\n",
    "y_min = ( -(model_params['weights'][0] * x_min) / model_params['weights'][1]\n",
    "          -(model_params['bias'] / model_params['weights'][1]) )\n",
    "\n",
    "x_max = 2\n",
    "y_max = ( -(model_params['weights'][0] * x_max) / model_params['weights'][1]\n",
    "          -(model_params['bias'] / model_params['weights'][1]) )\n",
    "\n",
    "\n",
    "fig, ax = plt.subplots(1, 2, sharex=True, figsize=(7, 3))\n",
    "\n",
    "ax[0].plot([x_min, x_max], [y_min, y_max])\n",
    "ax[1].plot([x_min, x_max], [y_min, y_max])\n",
    "\n",
    "ax[0].scatter(X_train[y_train==0, 0], X_train[y_train==0, 1], label='classe 0', marker='o')\n",
    "ax[0].scatter(X_train[y_train==1, 0], X_train[y_train==1, 1], label='classe 1', marker='s')\n",
    "\n",
    "ax[1].scatter(X_test[y_test==0, 0], X_test[y_test==0, 1], label='classe 0', marker='o')\n",
    "ax[1].scatter(X_test[y_test==1, 0], X_test[y_test==1, 1], label='classe 1', marker='s')\n",
    "\n",
    "ax[1].legend(loc='upper left')\n",
    "plt.show()"
   ]
  },
  {
   "cell_type": "code",
   "execution_count": 18,
   "metadata": {},
   "outputs": [],
   "source": [
    "# %load 01_solution_weight_zero_learning_rate.py"
   ]
  },
  {
   "cell_type": "code",
   "execution_count": 19,
   "metadata": {},
   "outputs": [],
   "source": [
    "# %load 02_solution_random_weights_learning_rate.py"
   ]
  },
  {
   "cell_type": "markdown",
   "metadata": {},
   "source": [
    "## Implementando o Perceptron com TensorFlow"
   ]
  },
  {
   "cell_type": "code",
   "execution_count": 20,
   "metadata": {},
   "outputs": [
    {
     "name": "stdout",
     "output_type": "stream",
     "text": [
      "WARNING:tensorflow:From /Users/dmpm/opt/anaconda3/lib/python3.7/site-packages/tensorflow_core/python/ops/resource_variable_ops.py:1635: calling BaseResourceVariable.__init__ (from tensorflow.python.ops.resource_variable_ops) with constraint is deprecated and will be removed in a future version.\n",
      "Instructions for updating:\n",
      "If using Keras pass *_constraint arguments to layers.\n"
     ]
    }
   ],
   "source": [
    "g = tf.Graph()\n",
    "\n",
    "\n",
    "n_features = X_train.shape[1]\n",
    "\n",
    "with g.as_default() as g:\n",
    "\n",
    "    # Inicializando os parâmetros do modelo\n",
    "    features = tf.compat.v1.placeholder(dtype=tf.float32, shape=[None, n_features], name='features')\n",
    "    targets = tf.compat.v1.placeholder(dtype=tf.float32, shape=[None, 1], name='targets')\n",
    "    params = {\n",
    "        'weights': tf.Variable(tf.zeros(shape=[n_features, 1], dtype=tf.float32), name='weights'),\n",
    "        'bias': tf.Variable([[0.]], dtype=tf.float32, name='bias')}\n",
    "\n",
    "    # Forward pass\n",
    "    linear = tf.matmul(features, params['weights']) + params['bias']\n",
    "    ones = tf.ones(shape=tf.shape(input=linear))\n",
    "    zeros = tf.zeros(shape=tf.shape(input=linear))\n",
    "    prediction = tf.compat.v1.where(tf.less(linear, 0.), zeros, ones, name='prediction')\n",
    "\n",
    "    # Atualização dos pesos\n",
    "    diff = targets - prediction\n",
    "    weight_update = tf.compat.v1.assign_add(params['weights'], tf.reshape(diff * features, (n_features, 1)))\n",
    "    bias_update = tf.compat.v1.assign_add(params['bias'], diff)\n",
    "\n",
    "    saver = tf.compat.v1.train.Saver()"
   ]
  },
  {
   "cell_type": "markdown",
   "metadata": {},
   "source": [
    "- Treinando o Perceptron com 5 amostras de treinamento para fins ilustrativos"
   ]
  },
  {
   "cell_type": "code",
   "execution_count": 21,
   "metadata": {},
   "outputs": [
    {
     "name": "stdout",
     "output_type": "stream",
     "text": [
      "Parâmetros do modelo:\n",
      " {'weights': array([[1.4725705 ],\n",
      "       [0.30436274]], dtype=float32), 'bias': array([[-1.]], dtype=float32)}\n",
      "Número de erros de treinamento: 3\n"
     ]
    }
   ],
   "source": [
    "with tf.compat.v1.Session(graph=g) as sess:\n",
    "\n",
    "    sess.run(tf.compat.v1.global_variables_initializer())\n",
    "\n",
    "    i = 0\n",
    "    for example, target in zip(X_train, y_train):\n",
    "        feed_dict = {features: example.reshape(-1, n_features),\n",
    "                     targets: target.reshape(-1, 1)}\n",
    "        _, _ = sess.run([weight_update, bias_update], feed_dict=feed_dict)\n",
    "\n",
    "        i += 1\n",
    "        if i >= 4:\n",
    "            break\n",
    "\n",
    "\n",
    "    modelparams = sess.run(params)\n",
    "    print('Parâmetros do modelo:\\n', modelparams)\n",
    "\n",
    "    saver.save(sess, save_path='./perceptron')\n",
    "\n",
    "    pred = sess.run(prediction, feed_dict={features: X_train})\n",
    "    errors = np.sum(pred.reshape(-1) != y_train)\n",
    "    print('Número de erros de treinamento:', errors)"
   ]
  },
  {
   "cell_type": "markdown",
   "metadata": {},
   "source": [
    "- Continue a treinar o grafo depois de restaurar a sessão a partir de um ponto de controle local (isso pode ser útil se tivermos que interromper a sessão computacional)\n",
    "- Agora treine uma época completa"
   ]
  },
  {
   "cell_type": "code",
   "execution_count": 22,
   "metadata": {},
   "outputs": [
    {
     "name": "stdout",
     "output_type": "stream",
     "text": [
      "INFO:tensorflow:Restoring parameters from /Users/dmpm/Dropbox/DSA/DeepLearningI2.0/Cap04/Exercicios/Exercicio4/perceptron\n",
      "Número de erros de treinamento 0\n",
      "Número de erros de teste 0\n"
     ]
    }
   ],
   "source": [
    "with tf.compat.v1.Session(graph=g) as sess:\n",
    "    saver.restore(sess, os.path.abspath('perceptron'))\n",
    "\n",
    "    for epoch in range(1):\n",
    "        for example, target in zip(X_train, y_train):\n",
    "            feed_dict = {features: example.reshape(-1, n_features), targets: target.reshape(-1, 1)}\n",
    "            _, _ = sess.run([weight_update, bias_update], feed_dict=feed_dict)\n",
    "            modelparams = sess.run(params)\n",
    "\n",
    "    saver.save(sess, save_path='./perceptron')\n",
    "\n",
    "    pred = sess.run(prediction, feed_dict={features: X_train})\n",
    "    train_errors = np.sum(pred.reshape(-1) != y_train)\n",
    "    pred = sess.run(prediction, feed_dict={features: X_train})\n",
    "    test_errors = np.sum(pred.reshape(-1) != y_train)\n",
    "\n",
    "    print('Número de erros de treinamento', train_errors)\n",
    "    print('Número de erros de teste', test_errors)"
   ]
  },
  {
   "cell_type": "markdown",
   "metadata": {},
   "source": [
    "- Exercícios sugeridos\n",
    "\n",
    "\n",
    "3. Traçar o limite de decisão para este perceptron TensorFlow. Por que você acha que a implementação do TensorFlow é melhor do que a implementação do NumPy no conjunto de testes?\n",
    "  - Dica 1: você pode reutilizar o código que usamos na seção NumPy\n",
    "  - Dica 2: uma vez que o bias é uma matriz 2D, você precisa acessar o valor através de `modelparams ['bias'] [0]`"
   ]
  },
  {
   "cell_type": "code",
   "execution_count": 23,
   "metadata": {},
   "outputs": [],
   "source": [
    "# %load 03_solution_tensorflow-boundary.py"
   ]
  },
  {
   "cell_type": "markdown",
   "metadata": {},
   "source": [
    "- Vamos restaurar a sessão a partir de um meta grafico (aviso \"` tf.Session () `\")\n",
    "- Primeiro, devemos carregar os conjuntos de dados novamente"
   ]
  },
  {
   "cell_type": "code",
   "execution_count": 24,
   "metadata": {},
   "outputs": [
    {
     "name": "stdout",
     "output_type": "stream",
     "text": [
      "INFO:tensorflow:Restoring parameters from /Users/dmpm/Dropbox/DSA/DeepLearningI2.0/Cap04/Exercicios/Exercicio4/perceptron\n",
      "Número de erros de treinamento 0\n",
      "Número de erros de teste 0\n"
     ]
    }
   ],
   "source": [
    "with tf.compat.v1.Session() as sess:\n",
    "\n",
    "    saver = tf.compat.v1.train.import_meta_graph(os.path.abspath('perceptron.meta'))\n",
    "    saver.restore(sess, os.path.abspath('./perceptron'))\n",
    "\n",
    "    pred = sess.run('prediction:0', feed_dict={'features:0': X_train})\n",
    "    train_errors = np.sum(pred.reshape(-1) != y_train)\n",
    "    pred = sess.run('prediction:0', feed_dict={'features:0': X_test})\n",
    "    test_errors = np.sum(pred.reshape(-1) != y_test)\n",
    "\n",
    "    print('Número de erros de treinamento', train_errors)\n",
    "    print('Número de erros de teste', test_errors)"
   ]
  },
  {
   "cell_type": "markdown",
   "metadata": {},
   "source": [
    "# Fim"
   ]
  }
 ],
 "metadata": {
  "anaconda-cloud": {},
  "kernelspec": {
   "display_name": "Python 3",
   "language": "python",
   "name": "python3"
  },
  "language_info": {
   "codemirror_mode": {
    "name": "ipython",
    "version": 3
   },
   "file_extension": ".py",
   "mimetype": "text/x-python",
   "name": "python",
   "nbconvert_exporter": "python",
   "pygments_lexer": "ipython3",
   "version": "3.8.8"
  }
 },
 "nbformat": 4,
 "nbformat_minor": 4
}
